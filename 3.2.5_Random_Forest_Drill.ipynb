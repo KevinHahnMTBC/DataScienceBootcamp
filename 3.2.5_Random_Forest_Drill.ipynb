{
 "cells": [
  {
   "cell_type": "code",
   "execution_count": null,
   "metadata": {
    "collapsed": false
   },
   "outputs": [],
   "source": [
    "from sklearn import ensemble\n",
    "from sklearn.model_selection import cross_val_score\n",
    "import time\n",
    "import pandas as pd\n",
    "import numpy as np\n",
    "import scipy\n",
    "import matplotlib.pyplot as plt\n",
    "import csv\n",
    "%matplotlib inline\n",
    "\n",
    "start_time = time.time()\n",
    "\n",
    "y2015 = pd.read_csv(\"/Users/Data/Downloads/LoanStats3d.csv\", skipinitialspace=True, header=1)\n",
    "\n",
    "len(y2015)\n",
    "\n",
    "categorical = y2015.select_dtypes(include=['object'])\n",
    "for i in categorical:\n",
    "    column = categorical[i]\n",
    "    print(i)\n",
    "    print(column.nunique())\n",
    "\n",
    "y2015['id'] = pd.to_numeric(y2015['id'], errors='coerce')\n",
    "y2015['int_rate'] = pd.to_numeric(\n",
    "                    y2015['int_rate'].str.strip('%'), errors='coerce')\n",
    "\n",
    "y2015.drop(['url', 'emp_title', 'zip_code', 'earliest_cr_line',\n",
    "            'revol_util', 'sub_grade', 'addr_state', 'desc'],\n",
    "            1, inplace=True)\n",
    "\n",
    "y2015 = y2015[:-2]\n",
    "\n",
    "print(\"--- %s seconds ---\" % (time.time() - start_time))"
   ]
  },
  {
   "cell_type": "code",
   "execution_count": null,
   "metadata": {
    "collapsed": false
   },
   "outputs": [],
   "source": [
    "start_time = time.time()\n",
    "\n",
    "rfc = ensemble.RandomForestClassifier()\n",
    "\n",
    "X = y2015.drop('loan_status', 1)\n",
    "Y = y2015['loan_status']\n",
    "\n",
    "X = pd.get_dummies(X)\n",
    "X = X.dropna(axis=1)\n",
    "X_dropped = X.drop(['last_pymnt_amnt', 'out_prncp'], 1)\n",
    "\n",
    "results = cross_val_score(rfc, X_dropped, Y, cv=10)\n",
    "\n",
    "feature_values = pd.DataFrame()\n",
    "feature_values['imp']= rfc.fit(X_dropped, Y).feature_importances_\n",
    "features_list = feature_values['features'] = X_dropped.columns\n",
    "\n",
    "feature_values.sort_values(by='imp', ascending=False)\n",
    "\n",
    "print(\"--- %s seconds ---\" % (time.time() - start_time))"
   ]
  },
  {
   "cell_type": "code",
   "execution_count": null,
   "metadata": {
    "collapsed": true
   },
   "outputs": [],
   "source": [
    "print(results)\n",
    "print(\"\")\n",
    "print(features_list)"
   ]
  }
 ],
 "metadata": {
  "kernelspec": {
   "display_name": "Python 3",
   "language": "python",
   "name": "python3"
  },
  "language_info": {
   "codemirror_mode": {
    "name": "ipython",
    "version": 3
   },
   "file_extension": ".py",
   "mimetype": "text/x-python",
   "name": "python",
   "nbconvert_exporter": "python",
   "pygments_lexer": "ipython3",
   "version": "3.6.0"
  }
 },
 "nbformat": 4,
 "nbformat_minor": 2
}
